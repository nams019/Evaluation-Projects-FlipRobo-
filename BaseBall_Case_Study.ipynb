{
 "cells": [
  {
   "cell_type": "code",
   "execution_count": 1,
   "id": "a11791b2",
   "metadata": {},
   "outputs": [
    {
     "name": "stdout",
     "output_type": "stream",
     "text": [
      "    W    R    AB     H   2B  3B   HR   BB    SO   SB   RA   ER   ERA  CG  SHO  \\\n",
      "0  95  724  5575  1497  300  42  139  383   973  104  641  601  3.73   2    8   \n",
      "1  83  696  5467  1349  277  44  156  439  1264   70  700  653  4.07   2   12   \n",
      "2  81  669  5439  1395  303  29  141  533  1157   86  640  584  3.67  11   10   \n",
      "3  76  622  5533  1381  260  27  136  404  1231   68  701  643  3.98   7    9   \n",
      "4  74  689  5605  1515  289  49  151  455  1259   83  803  746  4.64   7   12   \n",
      "\n",
      "   SV    E  \n",
      "0  56   88  \n",
      "1  45   86  \n",
      "2  38   79  \n",
      "3  37  101  \n",
      "4  35   86  \n",
      "Train RMSE: 1.5879134925915024\n",
      "Test RMSE: 5.2861169592307995\n",
      "Predicted Wins: 101.15432732085571\n"
     ]
    }
   ],
   "source": [
    "#Project phase 1 \n",
    "                                                #Project-3 Baseball Case Study\n",
    "\n",
    "\n",
    "import pandas as pd\n",
    "import numpy as np\n",
    "from sklearn.model_selection import train_test_split\n",
    "from sklearn.linear_model import LinearRegression\n",
    "from sklearn.metrics import mean_squared_error\n",
    "\n",
    "url = \"https://raw.githubusercontent.com/dsrscientist/Data-Science-ML-Capstone-Projects/master/baseball.csv\"\n",
    "data = pd.read_csv(url)\n",
    "\n",
    "print(data.head())\n",
    "\n",
    "X = data.drop(columns=['W'])\n",
    "y = data['W']\n",
    "X_train, X_test, y_train, y_test = train_test_split(X, y, test_size=0.2, random_state=42)\n",
    "\n",
    "model = LinearRegression()\n",
    "model.fit(X_train, y_train)\n",
    "\n",
    "train_preds = model.predict(X_train)\n",
    "test_preds = model.predict(X_test)\n",
    "train_rmse = np.sqrt(mean_squared_error(y_train, train_preds))\n",
    "test_rmse = np.sqrt(mean_squared_error(y_test, test_preds))\n",
    "print(\"Train RMSE:\", train_rmse)\n",
    "print(\"Test RMSE:\", test_rmse)\n",
    "\n",
    "new_data = pd.DataFrame({\n",
    "    'R': [700],\n",
    "    'AB': [5500],\n",
    "    'H': [1500],\n",
    "    '2B': [300],\n",
    "    '3B': [30],\n",
    "    'HR': [200],\n",
    "    'BB': [600],\n",
    "    'SO': [1200],\n",
    "    'SB': [100],\n",
    "    'RA': [650],\n",
    "    'ER': [600],\n",
    "    'ERA': [3.5],\n",
    "    'CG': [10],\n",
    "    'SHO': [5],\n",
    "    'SV': [50],\n",
    "    'E': [70]\n",
    "})\n",
    "predictions = model.predict(new_data)\n",
    "print(\"Predicted Wins:\", predictions[0])\n"
   ]
  },
  {
   "cell_type": "code",
   "execution_count": null,
   "id": "d9054879",
   "metadata": {},
   "outputs": [],
   "source": []
  }
 ],
 "metadata": {
  "kernelspec": {
   "display_name": "Python 3 (ipykernel)",
   "language": "python",
   "name": "python3"
  },
  "language_info": {
   "codemirror_mode": {
    "name": "ipython",
    "version": 3
   },
   "file_extension": ".py",
   "mimetype": "text/x-python",
   "name": "python",
   "nbconvert_exporter": "python",
   "pygments_lexer": "ipython3",
   "version": "3.9.12"
  }
 },
 "nbformat": 4,
 "nbformat_minor": 5
}
